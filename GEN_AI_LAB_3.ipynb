{
  "nbformat": 4,
  "nbformat_minor": 0,
  "metadata": {
    "colab": {
      "provenance": [],
      "authorship_tag": "ABX9TyNrI/hVFrD7eGFWstOAazmc",
      "include_colab_link": true
    },
    "kernelspec": {
      "name": "python3",
      "display_name": "Python 3"
    },
    "language_info": {
      "name": "python"
    }
  },
  "cells": [
    {
      "cell_type": "markdown",
      "metadata": {
        "id": "view-in-github",
        "colab_type": "text"
      },
      "source": [
        "<a href=\"https://colab.research.google.com/github/2303A52418/GEN-AI/blob/main/GEN_AI_LAB_3.ipynb\" target=\"_parent\"><img src=\"https://colab.research.google.com/assets/colab-badge.svg\" alt=\"Open In Colab\"/></a>"
      ]
    },
    {
      "cell_type": "markdown",
      "source": [
        "1\n"
      ],
      "metadata": {
        "id": "ph2zYYnUHxwB"
      }
    },
    {
      "cell_type": "code",
      "source": [
        "import numpy as np\n",
        "\n",
        "def grad_desc_f1_np(lr=0.01, iters=1000):\n",
        "    x = 0.0\n",
        "    for _ in range(iters):\n",
        "         grad = 20 * x**3 + 6 * x\n",
        "         x -= lr * grad\n",
        "    return x\n",
        "\n",
        "print(\"Min x for f(x):\", grad_desc_f1_np())"
      ],
      "metadata": {
        "colab": {
          "base_uri": "https://localhost:8080/"
        },
        "id": "oK9xT1XpA8zQ",
        "outputId": "40254f4d-94ab-405d-f561-563ab9fa605c"
      },
      "execution_count": 9,
      "outputs": [
        {
          "output_type": "stream",
          "name": "stdout",
          "text": [
            "Min x for f(x): 0.0\n"
          ]
        }
      ]
    },
    {
      "cell_type": "markdown",
      "source": [
        "2"
      ],
      "metadata": {
        "id": "J8sRnkyJH04I"
      }
    },
    {
      "cell_type": "code",
      "source": [
        "import numpy as np\n",
        "\n",
        "def grad_desc_f2_np(lr=0.01, iters=1000):\n",
        "    x, y = 0.0, 0.0  # Initialize x and y\n",
        "    for _ in range(iters):\n",
        "        grad_x = 6 * x  # Partial derivative w.r.t x\n",
        "        grad_y = -5 * np.exp(-y)  # Partial derivative w.r.t y\n",
        "        x -= lr * grad_x\n",
        "        y -= lr * grad_y\n",
        "    return x, y\n",
        "\n",
        "print(\"Min x, y for g(x, y):\", grad_desc_f2_np())\n"
      ],
      "metadata": {
        "colab": {
          "base_uri": "https://localhost:8080/"
        },
        "id": "D1ezAoTACnkY",
        "outputId": "c748b6b5-5318-4a76-a695-677dca1db228"
      },
      "execution_count": 10,
      "outputs": [
        {
          "output_type": "stream",
          "name": "stdout",
          "text": [
            "Min x, y for g(x, y): (0.0, 3.9337602416246904)\n"
          ]
        }
      ]
    },
    {
      "cell_type": "markdown",
      "source": [
        "3"
      ],
      "metadata": {
        "id": "lMzYQF9sH2DP"
      }
    },
    {
      "cell_type": "code",
      "source": [
        "import numpy as np\n",
        "\n",
        "def grad_desc_f3_np(lr=0.01, iters=1000):\n",
        "    x = 0.0  # Initialize x\n",
        "    for _ in range(iters):\n",
        "         grad = np.exp(-x) / (1 + np.exp(-x))**2  # Derivative of sigmoid function\n",
        "         x -= lr * grad\n",
        "    return x\n",
        "\n",
        "print(\"Min x for z(x):\", grad_desc_f3_np())"
      ],
      "metadata": {
        "colab": {
          "base_uri": "https://localhost:8080/"
        },
        "id": "MaO6YZzcDFXQ",
        "outputId": "c2ff1828-0189-4698-c9d2-af688b733c91"
      },
      "execution_count": 11,
      "outputs": [
        {
          "output_type": "stream",
          "name": "stdout",
          "text": [
            "Min x for z(x): -1.8618354629020137\n"
          ]
        }
      ]
    },
    {
      "cell_type": "markdown",
      "source": [
        "4"
      ],
      "metadata": {
        "id": "yeVkizLBH21g"
      }
    },
    {
      "cell_type": "code",
      "source": [
        "import numpy as np\n",
        "\n",
        "def grad_desc_f4_np(expected, inputs, lr=0.01, iters=1000):\n",
        "    M, C = 0.0, 0.0  # Initialize parameters\n",
        "    inputs = np.array(inputs)\n",
        "    expected = np.array(expected)\n",
        "    n = len(inputs)\n",
        "\n",
        "    for _ in range(iters):\n",
        "        predicted = M * inputs + C  # Predicted outputs\n",
        "        errors = expected - predicted  # Error terms\n",
        "        grad_M = -2 * np.sum(errors * inputs) / n  # Gradient w.r.t M\n",
        "        grad_C = -2 * np.sum(errors) / n  # Gradient w.r.t C\n",
        "        M -= lr * grad_M  # Update M\n",
        "        C -= lr * grad_C  # Update C\n",
        "\n",
        "    return M, C\n",
        "\n",
        " # Example usage\n",
        "expected = [2, 4, 6]  # Expected outputs\n",
        "inputs = [1, 2, 3]  # Input values\n",
        "optimal_M, optimal_C = grad_desc_f4_np(expected, inputs)\n",
        "print(\"Optimal M, C:\", optimal_M, optimal_C)"
      ],
      "metadata": {
        "colab": {
          "base_uri": "https://localhost:8080/"
        },
        "id": "GYt_2dfmGaCH",
        "outputId": "6a9b4883-44b8-42c5-f89a-6e5630a88ed3"
      },
      "execution_count": 15,
      "outputs": [
        {
          "output_type": "stream",
          "name": "stdout",
          "text": [
            "Optimal M, C: 1.97078250602932 0.06641823135781669\n"
          ]
        }
      ]
    }
  ]
}