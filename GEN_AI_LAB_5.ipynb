{
  "nbformat": 4,
  "nbformat_minor": 0,
  "metadata": {
    "colab": {
      "provenance": [],
      "authorship_tag": "ABX9TyOeyebJ9ZZtRMtl/L5wGAsc",
      "include_colab_link": true
    },
    "kernelspec": {
      "name": "python3",
      "display_name": "Python 3"
    },
    "language_info": {
      "name": "python"
    }
  },
  "cells": [
    {
      "cell_type": "markdown",
      "metadata": {
        "id": "view-in-github",
        "colab_type": "text"
      },
      "source": [
        "<a href=\"https://colab.research.google.com/github/2303A52418/GEN-AI/blob/main/GEN_AI_LAB_5.ipynb\" target=\"_parent\"><img src=\"https://colab.research.google.com/assets/colab-badge.svg\" alt=\"Open In Colab\"/></a>"
      ]
    },
    {
      "cell_type": "markdown",
      "source": [
        "5.1\n"
      ],
      "metadata": {
        "id": "Yg_tOJJFIPQr"
      }
    },
    {
      "cell_type": "code",
      "execution_count": null,
      "metadata": {
        "colab": {
          "base_uri": "https://localhost:8080/"
        },
        "id": "_VEqNMMqHxS1",
        "outputId": "f3985422-305f-435e-af85-eba363f49e00"
      },
      "outputs": [
        {
          "output_type": "stream",
          "name": "stdout",
          "text": [
            "Training MSE: 1.634837951453011e-06\n",
            "Testing MSE: 4.444192696647366e-06\n",
            "Enter x1 and x2: 0.2 0.4\n",
            "Predicted Output: 0.35520963595388344\n"
          ]
        }
      ],
      "source": [
        "import numpy as np\n",
        "\n",
        "def sigmoid(x):\n",
        "    return 1 / (1 + np.exp(-x))\n",
        "\n",
        "def sigmoid_derivative(x):\n",
        "    return x * (1 - x)\n",
        "\n",
        "def train_ann(X, y, hidden_neurons=4, learning_rate=0.1, epochs=5000):\n",
        "    input_neurons = X.shape[1]\n",
        "    output_neurons = 1\n",
        "\n",
        "    np.random.seed(42)\n",
        "    W1 = np.random.randn(input_neurons, hidden_neurons)\n",
        "    b1 = np.zeros((1, hidden_neurons))\n",
        "    W2 = np.random.randn(hidden_neurons, output_neurons)\n",
        "    b2 = np.zeros((1, output_neurons))\n",
        "\n",
        "    for _ in range(epochs):\n",
        "        # Forward Pass\n",
        "        Z1 = np.dot(X, W1) + b1\n",
        "        A1 = sigmoid(Z1)\n",
        "        Z2 = np.dot(A1, W2) + b2\n",
        "        A2 = Z2  # Linear activation in output layer\n",
        "\n",
        "        # Compute Error\n",
        "        error = A2 - y\n",
        "\n",
        "        # Backpropagation\n",
        "        dA2 = error  # Derivative of loss w.r.t. output\n",
        "        dW2 = np.dot(A1.T, dA2)\n",
        "        db2 = np.sum(dA2, axis=0, keepdims=True)\n",
        "\n",
        "        dA1 = np.dot(dA2, W2.T) * sigmoid_derivative(A1)\n",
        "        dW1 = np.dot(X.T, dA1)\n",
        "        db1 = np.sum(dA1, axis=0, keepdims=True)\n",
        "\n",
        "        # Update Weights and Biases\n",
        "        W1 -= learning_rate * dW1\n",
        "        b1 -= learning_rate * db1\n",
        "        W2 -= learning_rate * dW2\n",
        "        b2 -= learning_rate * db2\n",
        "\n",
        "    return W1, b1, W2, b2\n",
        "\n",
        "def predict(X, W1, b1, W2, b2):\n",
        "    A1 = sigmoid(np.dot(X, W1) + b1)\n",
        "    return np.dot(A1, W2) + b2  # Linear activation\n",
        "\n",
        "def mean_squared_error(y_true, y_pred):\n",
        "    return np.mean((y_true - y_pred) ** 2)\n",
        "\n",
        "# Training Data\n",
        "X_train = np.array([[0.1, 0.2], [0.2, 0.3], [0.3, 0.4], [0.6, 0.7], [0.7, 0.8], [0.8, 0.9]])\n",
        "y_train = np.array([[0.3432], [0.3490], [0.3548], [0.3720], [0.3776], [0.3832]])\n",
        "\n",
        "# Train the ANN\n",
        "W1, b1, W2, b2 = train_ann(X_train, y_train)\n",
        "\n",
        "# Test Data\n",
        "X_test = np.array([[0.4, 0.5], [0.5, 0.6]])\n",
        "y_test = np.array([[0.3606], [0.3663]])\n",
        "\n",
        "# Predictions\n",
        "train_predictions = predict(X_train, W1, b1, W2, b2)\n",
        "test_predictions = predict(X_test, W1, b1, W2, b2)\n",
        "\n",
        "# Mean Squared Error Calculation\n",
        "train_mse = mean_squared_error(y_train, train_predictions)\n",
        "test_mse = mean_squared_error(y_test, test_predictions)\n",
        "\n",
        "print(\"Training MSE:\", train_mse)\n",
        "print(\"Testing MSE:\", test_mse)\n",
        "\n",
        "# User Input Prediction\n",
        "x1, x2 = map(float, input(\"Enter x1 and x2: \").split())\n",
        "user_input = np.array([[x1, x2]])\n",
        "user_prediction = predict(user_input, W1, b1, W2, b2)\n",
        "print(\"Predicted Output:\", user_prediction[0][0])\n"
      ]
    },
    {
      "cell_type": "markdown",
      "source": [
        "5.2\n"
      ],
      "metadata": {
        "id": "Gwk3xrOYNO_D"
      }
    },
    {
      "cell_type": "code",
      "source": [
        "import numpy as np\n",
        "\n",
        "# Sigmoid and linear activation functions with their derivatives\n",
        "def sigmoid(x): return 1 / (1 + np.exp(-x))\n",
        "def sigmoid_derivative(x): return x * (1 - x)\n",
        "def linear(x): return x\n",
        "def linear_derivative(x): return 1\n",
        "\n",
        "# Training and test data\n",
        "X_train = np.array([[0.2, 0.1], [0.3, 0.2], [0.4, 0.3], [0.7, 0.6], [0.8, 0.7], [0.9, 0.8]])\n",
        "y_train = np.array([[0.3441], [0.3500], [0.3558], [0.3729], [0.3785], [0.3841]])\n",
        "X_test = np.array([[0.5, 0.4], [0.6, 0.5]])\n",
        "y_test = np.array([[0.3615], [0.3672]])\n",
        "\n",
        "# Hyperparameters\n",
        "input_size, hidden_size, output_size, learning_rate, epochs = 2, 2, 1, 0.1, 10000\n",
        "W1, b1 = np.random.randn(input_size, hidden_size), np.random.randn(hidden_size)\n",
        "W2, b2 = np.random.randn(hidden_size, output_size), np.random.randn(output_size)\n",
        "\n",
        "# Training loop\n",
        "for epoch in range(epochs):\n",
        "    # Forward pass\n",
        "    hidden_output = sigmoid(np.dot(X_train, W1) + b1)\n",
        "    output = linear(np.dot(hidden_output, W2) + b2)\n",
        "\n",
        "    # MSE loss\n",
        "    error = y_train - output\n",
        "    mse = np.mean(error ** 2)\n",
        "\n",
        "    # Backward pass (gradients)\n",
        "    d_output = error * linear_derivative(output)\n",
        "    d_W2 = np.dot(hidden_output.T, d_output)\n",
        "    d_b2 = np.sum(d_output, axis=0)\n",
        "    d_hidden = np.dot(d_output, W2.T) * sigmoid_derivative(hidden_output)\n",
        "    d_W1 = np.dot(X_train.T, d_hidden)\n",
        "    d_b1 = np.sum(d_hidden, axis=0)\n",
        "\n",
        "    # Update weights and biases\n",
        "    W1 += learning_rate * d_W1\n",
        "    b1 += learning_rate * d_b1\n",
        "    W2 += learning_rate * d_W2\n",
        "    b2 += learning_rate * d_b2\n",
        "\n",
        "    if epoch % 1000 == 0:\n",
        "        print(f\"Epoch {epoch}, MSE: {mse}\")\n",
        "\n",
        "# Prediction function\n",
        "def predict(X):\n",
        "    return linear(sigmoid(np.dot(X, W1) + b1).dot(W2) + b2)\n",
        "\n",
        "# Calculate MSE on training and testing data\n",
        "train_mse = np.mean((y_train - predict(X_train)) ** 2)\n",
        "test_mse = np.mean((y_test - predict(X_test)) ** 2)\n",
        "print(f\"Training MSE: {train_mse}, Testing MSE: {test_mse}\")\n",
        "\n",
        "# User input for prediction\n",
        "x1, x2 = float(input(\"Enter x1: \")), float(input(\"Enter x2: \"))\n",
        "print(f\"Predicted output: {predict(np.array([[x1, x2]]))[0][0]}\")\n"
      ],
      "metadata": {
        "id": "oWfw7mThIR9K",
        "colab": {
          "base_uri": "https://localhost:8080/"
        },
        "outputId": "81336042-36a7-4d26-ee5b-977c1a2fd2ae"
      },
      "execution_count": 1,
      "outputs": [
        {
          "output_type": "stream",
          "name": "stdout",
          "text": [
            "Epoch 0, MSE: 6.656038090580193\n",
            "Epoch 1000, MSE: 0.0005888785018520229\n",
            "Epoch 2000, MSE: 8.728973621858001e-05\n",
            "Epoch 3000, MSE: 3.929082915302813e-06\n",
            "Epoch 4000, MSE: 1.2770961509301372e-07\n",
            "Epoch 5000, MSE: 2.5067150196649747e-08\n",
            "Epoch 6000, MSE: 2.252751442458641e-08\n",
            "Epoch 7000, MSE: 2.242307381617382e-08\n",
            "Epoch 8000, MSE: 2.2376954943202654e-08\n",
            "Epoch 9000, MSE: 2.2332315460713196e-08\n",
            "Training MSE: 2.2287799240371436e-08, Testing MSE: 8.39497214712146e-08\n",
            "Enter x1: 0.5\n",
            "Enter x2: 0.4\n",
            "Predicted output: 0.361782366633374\n"
          ]
        }
      ]
    },
    {
      "cell_type": "markdown",
      "source": [
        "5.3"
      ],
      "metadata": {
        "id": "L4X9QumYNpNC"
      }
    },
    {
      "cell_type": "code",
      "source": [
        "import numpy as np\n",
        "\n",
        "# Sigmoid and linear activation functions with derivatives\n",
        "def sigmoid(x): return 1 / (1 + np.exp(-x))\n",
        "def sigmoid_derivative(x): return x * (1 - x)\n",
        "def linear(x): return x\n",
        "def linear_derivative(x): return 1\n",
        "\n",
        "# Training and Test Data\n",
        "X_train = np.array([[1, 2], [2, 3], [5, 6], [6, 7], [7, 8], [8, 9]])\n",
        "y_train = np.array([[0.4140], [0.4611], [0.5501], [0.5656], [0.5765], [0.5840]])\n",
        "X_test = np.array([[3, 4], [4, 5]])\n",
        "y_test = np.array([[0.4992], [0.5285]])\n",
        "\n",
        "# Hyperparameters\n",
        "input_size, hidden_size, output_size, learning_rate, epochs = 2, 2, 1, 0.1, 10000\n",
        "W1, b1 = np.random.randn(input_size, hidden_size), np.random.randn(hidden_size)\n",
        "W2, b2 = np.random.randn(hidden_size, output_size), np.random.randn(output_size)\n",
        "\n",
        "# Training loop\n",
        "for epoch in range(epochs):\n",
        "    hidden_input = np.dot(X_train, W1) + b1\n",
        "    hidden_output = sigmoid(hidden_input)\n",
        "    final_input = np.dot(hidden_output, W2) + b2\n",
        "    final_output = linear(final_input)\n",
        "\n",
        "    error = y_train - final_output\n",
        "    mse = np.mean(error ** 2)\n",
        "\n",
        "    # Backpropagation\n",
        "    d_output = error * linear_derivative(final_output)\n",
        "    d_W2 = np.dot(hidden_output.T, d_output)\n",
        "    d_b2 = np.sum(d_output, axis=0)\n",
        "    d_hidden = np.dot(d_output, W2.T) * sigmoid_derivative(hidden_output)\n",
        "    d_W1 = np.dot(X_train.T, d_hidden)\n",
        "    d_b1 = np.sum(d_hidden, axis=0)\n",
        "\n",
        "    # Update weights and biases\n",
        "    W1 += learning_rate * d_W1\n",
        "    b1 += learning_rate * d_b1\n",
        "    W2 += learning_rate * d_W2\n",
        "    b2 += learning_rate * d_b2\n",
        "\n",
        "    if epoch % 1000 == 0:\n",
        "        print(f\"Epoch {epoch}, MSE: {mse}\")\n",
        "\n",
        "# Prediction function\n",
        "def predict(X):\n",
        "    hidden_output = sigmoid(np.dot(X, W1) + b1)\n",
        "    return linear(np.dot(hidden_output, W2) + b2)\n",
        "\n",
        "# Calculate MSE on training and testing data\n",
        "train_mse = np.mean((y_train - predict(X_train)) ** 2)\n",
        "test_mse = np.mean((y_test - predict(X_test)) ** 2)\n",
        "print(f\"Training MSE: {train_mse}, Testing MSE: {test_mse}\")\n",
        "\n",
        "# User input for prediction\n",
        "x1, x2 = float(input(\"Enter x1: \")), float(input(\"Enter x2: \"))\n",
        "print(f\"Predicted output: {predict(np.array([[x1, x2]]))[0][0]}\")\n"
      ],
      "metadata": {
        "colab": {
          "base_uri": "https://localhost:8080/"
        },
        "id": "dHYGoRTJO4Eh",
        "outputId": "bded1cc1-a1aa-4956-c6f4-2dee82007145"
      },
      "execution_count": 3,
      "outputs": [
        {
          "output_type": "stream",
          "name": "stdout",
          "text": [
            "Epoch 0, MSE: 0.033087483130369376\n",
            "Epoch 1000, MSE: 0.00027149518278162503\n",
            "Epoch 2000, MSE: 0.00014575433886353573\n",
            "Epoch 3000, MSE: 9.307164157427123e-05\n",
            "Epoch 4000, MSE: 6.998428267652416e-05\n",
            "Epoch 5000, MSE: 5.420172281414364e-05\n",
            "Epoch 6000, MSE: 4.257433945263756e-05\n",
            "Epoch 7000, MSE: 3.3710390720517736e-05\n",
            "Epoch 8000, MSE: 2.6766179418276776e-05\n",
            "Epoch 9000, MSE: 2.1205264321676645e-05\n",
            "Training MSE: 1.669135964760353e-05, Testing MSE: 4.345598840814368e-05\n",
            "Enter x1: 3\n",
            "Enter x2: 4\n",
            "Predicted output: 0.507460558064714\n"
          ]
        }
      ]
    }
  ]
}